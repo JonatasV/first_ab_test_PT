{
 "cells": [
  {
   "cell_type": "markdown",
   "id": "edd46a35",
   "metadata": {},
   "source": [
    "## O desafio\n",
    "\n",
    "Você foi contratado como um freelancer pela Eletronic House para ajudar o time de Marketing para ajustar uma nova página, a validar a sua efetividade de uma maneira mais segura, com mais conversão e rigidez na análise\n",
    "\n",
    "- A conversão da nova página é realmente melhor do que a conversão atual?\n",
    "- Qual o potencial de número de vendas que a nova página pode trazer\n",
    "- Qual o faturamento total na venda do teclado bluetooth através da nova página?\n",
    "\n",
    "Pelo que me lembro do desafio (vi no Insta @meigarom rs), o site antigo estava com 13% de conversão e o objetivo é aumentar para 15%. O número de conversão significa o número de compras por meio da página sobre o número de visitantes.\n",
    "\n",
    "## Os dados\n",
    "\n",
    "O conjunto de dados está disponível na plataforma do Kaggle, através desse link:\n",
    "https://www.kaggle.com/datasets/zhangluyuan/ab-testing?select=ab_data.csv\n"
   ]
  },
  {
   "cell_type": "markdown",
   "id": "67bb3503",
   "metadata": {},
   "source": [
    "# Legenda\n",
    "\n",
    "Colunas:\n",
    "\n",
    "- user_id : O id do usuário de cada sessão;\n",
    "- timestamp : O timestamp (carimbo) para cada sessão;\n",
    "- group : Define se o usuário do group é classificado como Controle ou Tratamento\n",
    "- landing_page: Define como o usuário enxerga a página atual (old_page) a página que será testada (new_page);\n",
    "- converted : dummy que indica se a sessão terminou em conversão (0 = não convetido, 1= convetido)"
   ]
  },
  {
   "cell_type": "markdown",
   "id": "3a62bbc6",
   "metadata": {},
   "source": [
    "## Imports"
   ]
  },
  {
   "cell_type": "code",
   "execution_count": 1,
   "id": "4a40e287",
   "metadata": {
    "scrolled": true
   },
   "outputs": [],
   "source": [
    "import warnings\n",
    "warnings.filterwarnings(\"ignore\")\n",
    "import pandas as pd\n",
    "import numpy as np\n",
    "import math\n",
    "import seaborn as sns\n",
    "sns.set()\n",
    "import matplotlib as mpl\n",
    "import matplotlib.pyplot as plt\n",
    "import scipy.stats as stats\n",
    "from math import ceil\n",
    "from statsmodels.stats.proportion import proportions_ztest, proportion_confint\n",
    "%matplotlib inline\n",
    "import statsmodels.stats.api as sms"
   ]
  },
  {
   "cell_type": "markdown",
   "id": "5c0c966f",
   "metadata": {},
   "source": [
    "# Carregando os dados"
   ]
  },
  {
   "cell_type": "code",
   "execution_count": 2,
   "id": "6f867e79",
   "metadata": {},
   "outputs": [],
   "source": [
    "df = pd.read_csv(\"/Users/jonatas/Downloads/ab_data.csv\")"
   ]
  },
  {
   "cell_type": "code",
   "execution_count": 3,
   "id": "4ffa36f8",
   "metadata": {
    "scrolled": true
   },
   "outputs": [
    {
     "data": {
      "text/html": [
       "<div>\n",
       "<style scoped>\n",
       "    .dataframe tbody tr th:only-of-type {\n",
       "        vertical-align: middle;\n",
       "    }\n",
       "\n",
       "    .dataframe tbody tr th {\n",
       "        vertical-align: top;\n",
       "    }\n",
       "\n",
       "    .dataframe thead th {\n",
       "        text-align: right;\n",
       "    }\n",
       "</style>\n",
       "<table border=\"1\" class=\"dataframe\">\n",
       "  <thead>\n",
       "    <tr style=\"text-align: right;\">\n",
       "      <th></th>\n",
       "      <th>user_id</th>\n",
       "      <th>timestamp</th>\n",
       "      <th>group</th>\n",
       "      <th>landing_page</th>\n",
       "      <th>converted</th>\n",
       "    </tr>\n",
       "  </thead>\n",
       "  <tbody>\n",
       "    <tr>\n",
       "      <th>0</th>\n",
       "      <td>851104</td>\n",
       "      <td>2017-01-21 22:11:48.556739</td>\n",
       "      <td>control</td>\n",
       "      <td>old_page</td>\n",
       "      <td>0</td>\n",
       "    </tr>\n",
       "    <tr>\n",
       "      <th>1</th>\n",
       "      <td>804228</td>\n",
       "      <td>2017-01-12 08:01:45.159739</td>\n",
       "      <td>control</td>\n",
       "      <td>old_page</td>\n",
       "      <td>0</td>\n",
       "    </tr>\n",
       "    <tr>\n",
       "      <th>2</th>\n",
       "      <td>661590</td>\n",
       "      <td>2017-01-11 16:55:06.154213</td>\n",
       "      <td>treatment</td>\n",
       "      <td>new_page</td>\n",
       "      <td>0</td>\n",
       "    </tr>\n",
       "    <tr>\n",
       "      <th>3</th>\n",
       "      <td>853541</td>\n",
       "      <td>2017-01-08 18:28:03.143765</td>\n",
       "      <td>treatment</td>\n",
       "      <td>new_page</td>\n",
       "      <td>0</td>\n",
       "    </tr>\n",
       "    <tr>\n",
       "      <th>4</th>\n",
       "      <td>864975</td>\n",
       "      <td>2017-01-21 01:52:26.210827</td>\n",
       "      <td>control</td>\n",
       "      <td>old_page</td>\n",
       "      <td>1</td>\n",
       "    </tr>\n",
       "    <tr>\n",
       "      <th>5</th>\n",
       "      <td>936923</td>\n",
       "      <td>2017-01-10 15:20:49.083499</td>\n",
       "      <td>control</td>\n",
       "      <td>old_page</td>\n",
       "      <td>0</td>\n",
       "    </tr>\n",
       "    <tr>\n",
       "      <th>6</th>\n",
       "      <td>679687</td>\n",
       "      <td>2017-01-19 03:26:46.940749</td>\n",
       "      <td>treatment</td>\n",
       "      <td>new_page</td>\n",
       "      <td>1</td>\n",
       "    </tr>\n",
       "    <tr>\n",
       "      <th>7</th>\n",
       "      <td>719014</td>\n",
       "      <td>2017-01-17 01:48:29.539573</td>\n",
       "      <td>control</td>\n",
       "      <td>old_page</td>\n",
       "      <td>0</td>\n",
       "    </tr>\n",
       "    <tr>\n",
       "      <th>8</th>\n",
       "      <td>817355</td>\n",
       "      <td>2017-01-04 17:58:08.979471</td>\n",
       "      <td>treatment</td>\n",
       "      <td>new_page</td>\n",
       "      <td>1</td>\n",
       "    </tr>\n",
       "    <tr>\n",
       "      <th>9</th>\n",
       "      <td>839785</td>\n",
       "      <td>2017-01-15 18:11:06.610965</td>\n",
       "      <td>treatment</td>\n",
       "      <td>new_page</td>\n",
       "      <td>1</td>\n",
       "    </tr>\n",
       "  </tbody>\n",
       "</table>\n",
       "</div>"
      ],
      "text/plain": [
       "   user_id                   timestamp      group landing_page  converted\n",
       "0   851104  2017-01-21 22:11:48.556739    control     old_page          0\n",
       "1   804228  2017-01-12 08:01:45.159739    control     old_page          0\n",
       "2   661590  2017-01-11 16:55:06.154213  treatment     new_page          0\n",
       "3   853541  2017-01-08 18:28:03.143765  treatment     new_page          0\n",
       "4   864975  2017-01-21 01:52:26.210827    control     old_page          1\n",
       "5   936923  2017-01-10 15:20:49.083499    control     old_page          0\n",
       "6   679687  2017-01-19 03:26:46.940749  treatment     new_page          1\n",
       "7   719014  2017-01-17 01:48:29.539573    control     old_page          0\n",
       "8   817355  2017-01-04 17:58:08.979471  treatment     new_page          1\n",
       "9   839785  2017-01-15 18:11:06.610965  treatment     new_page          1"
      ]
     },
     "execution_count": 3,
     "metadata": {},
     "output_type": "execute_result"
    }
   ],
   "source": [
    "df.head(10)"
   ]
  },
  {
   "cell_type": "code",
   "execution_count": 4,
   "id": "66894354",
   "metadata": {
    "scrolled": true
   },
   "outputs": [
    {
     "name": "stdout",
     "output_type": "stream",
     "text": [
      "<class 'pandas.core.frame.DataFrame'>\n",
      "RangeIndex: 294478 entries, 0 to 294477\n",
      "Data columns (total 5 columns):\n",
      " #   Column        Non-Null Count   Dtype \n",
      "---  ------        --------------   ----- \n",
      " 0   user_id       294478 non-null  int64 \n",
      " 1   timestamp     294478 non-null  object\n",
      " 2   group         294478 non-null  object\n",
      " 3   landing_page  294478 non-null  object\n",
      " 4   converted     294478 non-null  int64 \n",
      "dtypes: int64(2), object(3)\n",
      "memory usage: 11.2+ MB\n"
     ]
    }
   ],
   "source": [
    "# informaçoes sobre o tipo da variável\n",
    "df.info()"
   ]
  },
  {
   "cell_type": "code",
   "execution_count": 5,
   "id": "50361023",
   "metadata": {
    "scrolled": true
   },
   "outputs": [
    {
     "data": {
      "text/plain": [
       "user_id         0\n",
       "timestamp       0\n",
       "group           0\n",
       "landing_page    0\n",
       "converted       0\n",
       "dtype: int64"
      ]
     },
     "execution_count": 5,
     "metadata": {},
     "output_type": "execute_result"
    }
   ],
   "source": [
    "# Procurando por missing values\n",
    "df.isnull().sum()"
   ]
  },
  {
   "cell_type": "code",
   "execution_count": 6,
   "id": "09c0003b",
   "metadata": {
    "scrolled": true
   },
   "outputs": [
    {
     "data": {
      "text/plain": [
       "control      147202\n",
       "treatment    147276\n",
       "Name: group, dtype: int64"
      ]
     },
     "execution_count": 6,
     "metadata": {},
     "output_type": "execute_result"
    }
   ],
   "source": [
    "#Verificando a quantidade de observações nos grupos controle e tratado\n",
    "df['group'].value_counts().sort_index()"
   ]
  },
  {
   "cell_type": "code",
   "execution_count": 7,
   "id": "9485c345",
   "metadata": {
    "scrolled": true
   },
   "outputs": [
    {
     "data": {
      "text/plain": [
       "new_page    147239\n",
       "old_page    147239\n",
       "Name: landing_page, dtype: int64"
      ]
     },
     "execution_count": 7,
     "metadata": {},
     "output_type": "execute_result"
    }
   ],
   "source": [
    "df['landing_page'].value_counts().sort_index()"
   ]
  },
  {
   "cell_type": "code",
   "execution_count": 8,
   "id": "be9164cc",
   "metadata": {
    "scrolled": false
   },
   "outputs": [
    {
     "data": {
      "text/plain": [
       "0    259241\n",
       "1     35237\n",
       "Name: converted, dtype: int64"
      ]
     },
     "execution_count": 8,
     "metadata": {},
     "output_type": "execute_result"
    }
   ],
   "source": [
    "df['converted'].value_counts().sort_index()"
   ]
  },
  {
   "cell_type": "code",
   "execution_count": 9,
   "id": "41a9192b",
   "metadata": {},
   "outputs": [
    {
     "data": {
      "text/html": [
       "<div>\n",
       "<style scoped>\n",
       "    .dataframe tbody tr th:only-of-type {\n",
       "        vertical-align: middle;\n",
       "    }\n",
       "\n",
       "    .dataframe tbody tr th {\n",
       "        vertical-align: top;\n",
       "    }\n",
       "\n",
       "    .dataframe thead th {\n",
       "        text-align: right;\n",
       "    }\n",
       "</style>\n",
       "<table border=\"1\" class=\"dataframe\">\n",
       "  <thead>\n",
       "    <tr style=\"text-align: right;\">\n",
       "      <th></th>\n",
       "      <th>count</th>\n",
       "      <th>unique</th>\n",
       "      <th>top</th>\n",
       "      <th>freq</th>\n",
       "      <th>mean</th>\n",
       "      <th>std</th>\n",
       "      <th>min</th>\n",
       "      <th>25%</th>\n",
       "      <th>50%</th>\n",
       "      <th>75%</th>\n",
       "      <th>max</th>\n",
       "    </tr>\n",
       "  </thead>\n",
       "  <tbody>\n",
       "    <tr>\n",
       "      <th>user_id</th>\n",
       "      <td>294478.0</td>\n",
       "      <td>NaN</td>\n",
       "      <td>NaN</td>\n",
       "      <td>NaN</td>\n",
       "      <td>787974.124733</td>\n",
       "      <td>91210.823776</td>\n",
       "      <td>630000.0</td>\n",
       "      <td>709032.25</td>\n",
       "      <td>787933.5</td>\n",
       "      <td>866911.75</td>\n",
       "      <td>945999.0</td>\n",
       "    </tr>\n",
       "    <tr>\n",
       "      <th>timestamp</th>\n",
       "      <td>294478</td>\n",
       "      <td>294478</td>\n",
       "      <td>2017-01-21 22:11:48.556739</td>\n",
       "      <td>1</td>\n",
       "      <td>NaN</td>\n",
       "      <td>NaN</td>\n",
       "      <td>NaN</td>\n",
       "      <td>NaN</td>\n",
       "      <td>NaN</td>\n",
       "      <td>NaN</td>\n",
       "      <td>NaN</td>\n",
       "    </tr>\n",
       "    <tr>\n",
       "      <th>group</th>\n",
       "      <td>294478</td>\n",
       "      <td>2</td>\n",
       "      <td>treatment</td>\n",
       "      <td>147276</td>\n",
       "      <td>NaN</td>\n",
       "      <td>NaN</td>\n",
       "      <td>NaN</td>\n",
       "      <td>NaN</td>\n",
       "      <td>NaN</td>\n",
       "      <td>NaN</td>\n",
       "      <td>NaN</td>\n",
       "    </tr>\n",
       "    <tr>\n",
       "      <th>landing_page</th>\n",
       "      <td>294478</td>\n",
       "      <td>2</td>\n",
       "      <td>old_page</td>\n",
       "      <td>147239</td>\n",
       "      <td>NaN</td>\n",
       "      <td>NaN</td>\n",
       "      <td>NaN</td>\n",
       "      <td>NaN</td>\n",
       "      <td>NaN</td>\n",
       "      <td>NaN</td>\n",
       "      <td>NaN</td>\n",
       "    </tr>\n",
       "    <tr>\n",
       "      <th>converted</th>\n",
       "      <td>294478.0</td>\n",
       "      <td>NaN</td>\n",
       "      <td>NaN</td>\n",
       "      <td>NaN</td>\n",
       "      <td>0.119659</td>\n",
       "      <td>0.324563</td>\n",
       "      <td>0.0</td>\n",
       "      <td>0.0</td>\n",
       "      <td>0.0</td>\n",
       "      <td>0.0</td>\n",
       "      <td>1.0</td>\n",
       "    </tr>\n",
       "  </tbody>\n",
       "</table>\n",
       "</div>"
      ],
      "text/plain": [
       "                 count  unique                         top    freq  \\\n",
       "user_id       294478.0     NaN                         NaN     NaN   \n",
       "timestamp       294478  294478  2017-01-21 22:11:48.556739       1   \n",
       "group           294478       2                   treatment  147276   \n",
       "landing_page    294478       2                    old_page  147239   \n",
       "converted     294478.0     NaN                         NaN     NaN   \n",
       "\n",
       "                       mean           std       min        25%       50%  \\\n",
       "user_id       787974.124733  91210.823776  630000.0  709032.25  787933.5   \n",
       "timestamp               NaN           NaN       NaN        NaN       NaN   \n",
       "group                   NaN           NaN       NaN        NaN       NaN   \n",
       "landing_page            NaN           NaN       NaN        NaN       NaN   \n",
       "converted          0.119659      0.324563       0.0        0.0       0.0   \n",
       "\n",
       "                    75%       max  \n",
       "user_id       866911.75  945999.0  \n",
       "timestamp           NaN       NaN  \n",
       "group               NaN       NaN  \n",
       "landing_page        NaN       NaN  \n",
       "converted           0.0       1.0  "
      ]
     },
     "execution_count": 9,
     "metadata": {},
     "output_type": "execute_result"
    }
   ],
   "source": [
    "df.describe(include='all').T"
   ]
  },
  {
   "cell_type": "markdown",
   "id": "d8797a76",
   "metadata": {},
   "source": [
    " ## Análise de um teste A/B\n",
    " Em um teste bicaudal existem duas hipóteses:\n",
    " - Nula (H0): O efeito é nulo\n",
    " - Alternativa (H1): O efeito é não nulo\n",
    " \n",
    "O nível de significância é a probabilidade de rejeitar a hipótese nula quando, de fato, a hipótese nula é verdadeira. Quanto maior a significância, maior a chance do efeito ser nulo.\n",
    "\n",
    "Considerando alpha = 0.05, i.e, nosso nível de confiança  = 95%, queremos saber se, com 95% de certeza se mudança para a nova pagina web foi efetiva. Se o p_valor < 0.05 podemos rejeitar a hipótese nula.\n",
    "\n",
    "Outro fator que deve ser levado em consideração é o tamanho da amostra para realização do teste A/B"
   ]
  },
  {
   "cell_type": "code",
   "execution_count": 10,
   "id": "9594112b",
   "metadata": {
    "scrolled": true
   },
   "outputs": [
    {
     "data": {
      "text/html": [
       "<div>\n",
       "<style scoped>\n",
       "    .dataframe tbody tr th:only-of-type {\n",
       "        vertical-align: middle;\n",
       "    }\n",
       "\n",
       "    .dataframe tbody tr th {\n",
       "        vertical-align: top;\n",
       "    }\n",
       "\n",
       "    .dataframe thead th {\n",
       "        text-align: right;\n",
       "    }\n",
       "</style>\n",
       "<table border=\"1\" class=\"dataframe\">\n",
       "  <thead>\n",
       "    <tr style=\"text-align: right;\">\n",
       "      <th>landing_page</th>\n",
       "      <th>new_page</th>\n",
       "      <th>old_page</th>\n",
       "    </tr>\n",
       "    <tr>\n",
       "      <th>group</th>\n",
       "      <th></th>\n",
       "      <th></th>\n",
       "    </tr>\n",
       "  </thead>\n",
       "  <tbody>\n",
       "    <tr>\n",
       "      <th>control</th>\n",
       "      <td>1928</td>\n",
       "      <td>145274</td>\n",
       "    </tr>\n",
       "    <tr>\n",
       "      <th>treatment</th>\n",
       "      <td>145311</td>\n",
       "      <td>1965</td>\n",
       "    </tr>\n",
       "  </tbody>\n",
       "</table>\n",
       "</div>"
      ],
      "text/plain": [
       "landing_page  new_page  old_page\n",
       "group                           \n",
       "control           1928    145274\n",
       "treatment       145311      1965"
      ]
     },
     "execution_count": 10,
     "metadata": {},
     "output_type": "execute_result"
    }
   ],
   "source": [
    "pd.crosstab(df['group'], df['landing_page'])"
   ]
  },
  {
   "cell_type": "markdown",
   "id": "ed0885db",
   "metadata": {},
   "source": [
    "# Calculando o tamanho do efeito\n",
    "Para saber o número ideal da amostra, devemos realizar um \"Power test\" a fim de determinar o número necessário na amostra."
   ]
  },
  {
   "cell_type": "code",
   "execution_count": 11,
   "id": "452dca76",
   "metadata": {},
   "outputs": [
    {
     "name": "stdout",
     "output_type": "stream",
     "text": [
      "4720\n"
     ]
    }
   ],
   "source": [
    "# Calculo do tamanho do efeito dado as taxas esperadas \n",
    "efeito = sms.proportion_effectsize(0.13, 0.15)\n",
    "\n",
    "required_n = sms.NormalIndPower().solve_power(\n",
    "            efeito,\n",
    "            power = 0.8, #power test (o padrão é 0.8)\n",
    "            alpha=0.05, # p-valor = 0.05\n",
    "            ratio=1)\n",
    "\n",
    "required_n = ceil(required_n)  # arredondando os números\n",
    "\n",
    "print(required_n)"
   ]
  },
  {
   "cell_type": "markdown",
   "id": "cd184c51",
   "metadata": {},
   "source": [
    "Portanto, precisamos de 4720 usuários no grupo controle e no grupo de tratamento. "
   ]
  },
  {
   "cell_type": "markdown",
   "id": "9260aaca",
   "metadata": {},
   "source": [
    "## Processando os dados"
   ]
  },
  {
   "cell_type": "code",
   "execution_count": 12,
   "id": "1f95d266",
   "metadata": {},
   "outputs": [
    {
     "name": "stdout",
     "output_type": "stream",
     "text": [
      "Existem 3894 usuários que aparecem mais de uma vez no dataset\n"
     ]
    }
   ],
   "source": [
    "# Vamos verificar se há multiplas entradas\n",
    "\n",
    "session_counts = df['user_id'].value_counts(ascending = False)\n",
    "duplicados = session_counts[session_counts > 1].count()\n",
    "\n",
    "print(f'Existem {duplicados} usuários que aparecem mais de uma vez no dataset')"
   ]
  },
  {
   "cell_type": "code",
   "execution_count": 13,
   "id": "f1238ef8",
   "metadata": {},
   "outputs": [
    {
     "name": "stdout",
     "output_type": "stream",
     "text": [
      "Agora o dataset possui 286690 entradas\n"
     ]
    }
   ],
   "source": [
    "# Temos que retirar as entradas que aparecem mais de uma vez\n",
    "drop_usuarios = session_counts[session_counts > 1].index\n",
    "df = df[~df['user_id'].isin(drop_usuarios)]\n",
    "print(f'Agora o dataset possui {df.shape[0]} entradas')"
   ]
  },
  {
   "cell_type": "code",
   "execution_count": 14,
   "id": "290de67d",
   "metadata": {
    "scrolled": true
   },
   "outputs": [
    {
     "data": {
      "text/html": [
       "<div>\n",
       "<style scoped>\n",
       "    .dataframe tbody tr th:only-of-type {\n",
       "        vertical-align: middle;\n",
       "    }\n",
       "\n",
       "    .dataframe tbody tr th {\n",
       "        vertical-align: top;\n",
       "    }\n",
       "\n",
       "    .dataframe thead th {\n",
       "        text-align: right;\n",
       "    }\n",
       "</style>\n",
       "<table border=\"1\" class=\"dataframe\">\n",
       "  <thead>\n",
       "    <tr style=\"text-align: right;\">\n",
       "      <th>landing_page</th>\n",
       "      <th>new_page</th>\n",
       "      <th>old_page</th>\n",
       "    </tr>\n",
       "    <tr>\n",
       "      <th>group</th>\n",
       "      <th></th>\n",
       "      <th></th>\n",
       "    </tr>\n",
       "  </thead>\n",
       "  <tbody>\n",
       "    <tr>\n",
       "      <th>control</th>\n",
       "      <td>0</td>\n",
       "      <td>143293</td>\n",
       "    </tr>\n",
       "    <tr>\n",
       "      <th>treatment</th>\n",
       "      <td>143397</td>\n",
       "      <td>0</td>\n",
       "    </tr>\n",
       "  </tbody>\n",
       "</table>\n",
       "</div>"
      ],
      "text/plain": [
       "landing_page  new_page  old_page\n",
       "group                           \n",
       "control              0    143293\n",
       "treatment       143397         0"
      ]
     },
     "execution_count": 14,
     "metadata": {},
     "output_type": "execute_result"
    }
   ],
   "source": [
    "# Após limpo, podemos ver agora usuários somente na pagina nova ou na pagina antiga\n",
    "pd.crosstab(df['group'], df['landing_page'])"
   ]
  },
  {
   "cell_type": "code",
   "execution_count": 17,
   "id": "2052c69e",
   "metadata": {
    "scrolled": true
   },
   "outputs": [
    {
     "data": {
      "text/html": [
       "<style type=\"text/css\">\n",
       "</style>\n",
       "<table id=\"T_29338\">\n",
       "  <thead>\n",
       "    <tr>\n",
       "      <th class=\"blank level0\" >&nbsp;</th>\n",
       "      <th id=\"T_29338_level0_col0\" class=\"col_heading level0 col0\" >tx_conversão</th>\n",
       "      <th id=\"T_29338_level0_col1\" class=\"col_heading level0 col1\" >desv padrão</th>\n",
       "      <th id=\"T_29338_level0_col2\" class=\"col_heading level0 col2\" >erro padrão</th>\n",
       "    </tr>\n",
       "    <tr>\n",
       "      <th class=\"index_name level0\" >group</th>\n",
       "      <th class=\"blank col0\" >&nbsp;</th>\n",
       "      <th class=\"blank col1\" >&nbsp;</th>\n",
       "      <th class=\"blank col2\" >&nbsp;</th>\n",
       "    </tr>\n",
       "  </thead>\n",
       "  <tbody>\n",
       "    <tr>\n",
       "      <th id=\"T_29338_level0_row0\" class=\"row_heading level0 row0\" >control</th>\n",
       "      <td id=\"T_29338_row0_col0\" class=\"data row0 col0\" >0.120</td>\n",
       "      <td id=\"T_29338_row0_col1\" class=\"data row0 col1\" >0.325</td>\n",
       "      <td id=\"T_29338_row0_col2\" class=\"data row0 col2\" >0.001</td>\n",
       "    </tr>\n",
       "    <tr>\n",
       "      <th id=\"T_29338_level0_row1\" class=\"row_heading level0 row1\" >treatment</th>\n",
       "      <td id=\"T_29338_row1_col0\" class=\"data row1 col0\" >0.119</td>\n",
       "      <td id=\"T_29338_row1_col1\" class=\"data row1 col1\" >0.323</td>\n",
       "      <td id=\"T_29338_row1_col2\" class=\"data row1 col2\" >0.001</td>\n",
       "    </tr>\n",
       "  </tbody>\n",
       "</table>\n"
      ],
      "text/plain": [
       "<pandas.io.formats.style.Styler at 0x7fd99dbeb6a0>"
      ]
     },
     "execution_count": 17,
     "metadata": {},
     "output_type": "execute_result"
    }
   ],
   "source": [
    "tx_conversao = df.groupby('group')['converted']\n",
    "\n",
    "#Desvio-padrão da proporção\n",
    "#ddof=0 significa Delta Degrees of Freedom. Por padrão já é 0.\n",
    "std_p = lambda x: np.std(x, ddof=0)\n",
    "\n",
    "#Erro padrão da proporção (desv.padrao/raiz quadrada de n)\n",
    "se_p = lambda x: stats.sem(x,ddof=0)\n",
    "\n",
    "tx_conversao = tx_conversao.agg([np.mean, std_p, se_p])\n",
    "tx_conversao.columns = ['tx_conversão', 'desv padrão', 'erro padrão']\n",
    "\n",
    "tx_conversao.style.format('{:.3f}')"
   ]
  },
  {
   "cell_type": "markdown",
   "id": "e13ed74e",
   "metadata": {},
   "source": [
    "O grupo de controle mostra 12% de taxa de converão na pagina antiga (grupo de controle) e na nova página 11.9% (grupo controle) de taxa de conversão  "
   ]
  },
  {
   "cell_type": "code",
   "execution_count": 20,
   "id": "b21b2ecf",
   "metadata": {
    "scrolled": false
   },
   "outputs": [
    {
     "data": {
      "image/png": "[encoded data removed]",
      "text/plain": [
       "<Figure size 432x288 with 1 Axes>"
      ]
     },
     "metadata": {
      "needs_background": "light"
     },
     "output_type": "display_data"
    }
   ],
   "source": [
    "# Plotando a conversão por grupo\n",
    "#ci = intervalo de confiança\n",
    "sns.barplot(x=df['group'], y=df['converted'], ci=False)\n",
    "\n",
    "plt.ylim(0, 0.15)\n",
    "plt.title('Taxa de conversão por grupo')\n",
    "plt.xlabel('Grupo')\n",
    "plt.ylabel('Conversão (por proporção)')\n",
    "plt.show()"
   ]
  },
  {
   "cell_type": "markdown",
   "id": "ffddf9a2",
   "metadata": {},
   "source": [
    "## Teste de Hipótese\n"
   ]
  },
  {
   "cell_type": "code",
   "execution_count": 21,
   "id": "161bfc1e",
   "metadata": {},
   "outputs": [],
   "source": [
    "control_results = df[df['group'] == 'control']['converted']\n",
    "treatment_results = df[df['group']== 'treatment']['converted']\n",
    "\n",
    "nr_control = control_results.count()\n",
    "nr_treatment = control_results.count()\n",
    "sucesso = [control_results.sum(), treatment_results.sum()]\n",
    "nr_obs = [nr_control, nr_treatment]"
   ]
  },
  {
   "cell_type": "code",
   "execution_count": 26,
   "id": "78b51af0",
   "metadata": {},
   "outputs": [],
   "source": [
    "z_stat, pvalue = proportions_ztest(sucesso, nobs=nr_obs)\n",
    "\n",
    "#Intervalo de confiança\n",
    "(lower_control, lower_treatment), (upper_control, upper_treatment) = proportion_confint(sucesso, nobs= nr_obs, alpha=0.05)"
   ]
  },
  {
   "cell_type": "code",
   "execution_count": 27,
   "id": "54254122",
   "metadata": {
    "scrolled": true
   },
   "outputs": [
    {
     "name": "stdout",
     "output_type": "stream",
     "text": [
      "Z statistic : 1.12\n",
      "P-value :  0.261\n",
      "Intervalo de confiança (95%) - grupo controle: [0.118,0.122]\n",
      "Intervalo de confiança (95%) - grupo tratado: [0.117,0.120]\n"
     ]
    }
   ],
   "source": [
    "print('Z statistic : {:.2f}'.format(z_stat))\n",
    "print('P-value : {:6.3f}'.format(pvalue))\n",
    "print('Intervalo de confiança (95%) - grupo controle: [{:.3f},{:.3f}]'.format(lower_control, upper_control))\n",
    "print('Intervalo de confiança (95%) - grupo tratado: [{:.3f},{:.3f}]'.format(lower_treatment, upper_treatment))\n"
   ]
  },
  {
   "cell_type": "markdown",
   "id": "04333b06",
   "metadata": {},
   "source": [
    "O \"Z statistic\" nada mais é do que o número de desvios padrão entre a média da amostra e a média da população. O Z statistic pode ser usada para determinar a rejeição da hipótese nula ou não. A formula do Z statistic é: (média da amostra - média das obs da população)/ média do erro padrão da amostra.\n",
    "\n",
    "Já o calculo da média do erro padrão na amostra é: desvio-padrão/raiz quadrada de n"
   ]
  },
  {
   "cell_type": "markdown",
   "id": "3ac92ae0",
   "metadata": {},
   "source": [
    "Voltando a análise do nosso teste de hipótese, dado o P-valor = 0.261 que é maior do que nosso alpha (0.05), portanto, não se pode rejeitar a hipótese nula. Isto quer dizer que não é possível dizer com exatidão se a nova página tem melhor performance do que a antiga. Ambas possuem efeitos similares. Assim, respondendo a primeira pergunta do desafio, não, a conversão da nova página não é melhor do que a antiga."
   ]
  }
 ],
 "metadata": {
  "kernelspec": {
   "display_name": "Python 3 (ipykernel)",
   "language": "python",
   "name": "python3"
  },
  "language_info": {
   "codemirror_mode": {
    "name": "ipython",
    "version": 3
   },
   "file_extension": ".py",
   "mimetype": "text/x-python",
   "name": "python",
   "nbconvert_exporter": "python",
   "pygments_lexer": "ipython3",
   "version": "3.9.7"
  }
 },
 "nbformat": 4,
 "nbformat_minor": 5
}
